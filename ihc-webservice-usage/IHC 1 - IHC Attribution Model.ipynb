{
 "cells": [
  {
   "cell_type": "markdown",
   "id": "6d26e423",
   "metadata": {},
   "source": [
    "# What is digital customer journey?"
   ]
  },
  {
   "cell_type": "markdown",
   "id": "bfe3966b",
   "metadata": {},
   "source": [
    "     Digital customer journey is the virtual path followed by an internet user from first noticing the product to buying it. A digital customer journey combines all of the digital touchpoints which customer interacts with the product online. In our case,  at each touchpoint, there are channels that tell us how or in which way the customer has interacted with  the product."
   ]
  },
  {
   "cell_type": "markdown",
   "id": "11ced3bc",
   "metadata": {},
   "source": [
    "![3](img/cj.png)\n"
   ]
  },
  {
   "cell_type": "markdown",
   "id": "b74afe8a",
   "metadata": {},
   "source": [
    "# What is Attribution Modeling?"
   ]
  },
  {
   "cell_type": "markdown",
   "id": "89b4953d",
   "metadata": {},
   "source": [
    "     Marketers want to assign credit for each touchpoint in the journey and they want to know how much of the last conversions can be attributed at this touchpoint. After the distribution of credits among touchpoints in journey, they can analyze how much credibility an individual channel has. With the help of attribution models companies can understand their user's behaviour more in-depth and can calculate important KPIs more precisely. If they want to run a campaign or are already running a campaign, they can have an idea of how sustainable or profitible the campaigns are and allocate/reallocate their budget according the results."
   ]
  },
  {
   "cell_type": "markdown",
   "id": "6d3bab94",
   "metadata": {},
   "source": [
    "## Different Attribution Models"
   ]
  },
  {
   "cell_type": "markdown",
   "id": "4a360587",
   "metadata": {},
   "source": [
    "     First Click Models attribute the whole conversion to the first touchpoint."
   ]
  },
  {
   "cell_type": "markdown",
   "id": "3dddbc3f",
   "metadata": {},
   "source": [
    "![3](img/first_click.png)"
   ]
  },
  {
   "cell_type": "markdown",
   "id": "f069dabd",
   "metadata": {},
   "source": [
    "     Last Click Model has a similar approach, but here very last session takes the credit for the conversion."
   ]
  },
  {
   "cell_type": "markdown",
   "id": "89cc4249",
   "metadata": {},
   "source": [
    "![4](img/last_click.png)\n"
   ]
  },
  {
   "cell_type": "markdown",
   "id": "d5032da0",
   "metadata": {},
   "source": [
    "          In U-Shape Models, first and last sessions attributed equally, while other credits were allocated among the mid-sessions."
   ]
  },
  {
   "cell_type": "markdown",
   "id": "43e02023",
   "metadata": {},
   "source": [
    "![5](img/u_shape.png)"
   ]
  },
  {
   "cell_type": "markdown",
   "id": "f4eb5f0f",
   "metadata": {},
   "source": [
    "## Data-Driven IHC Model\n"
   ]
  },
  {
   "cell_type": "markdown",
   "id": "a188c44a",
   "metadata": {},
   "source": [
    "     IHC Model is a fully data-driven attribution model. It means that we need to feed the model with data, in this case with Customer Journey set. Thus, we are able to test and evaluate the results."
   ]
  },
  {
   "cell_type": "markdown",
   "id": "8e2c75fd",
   "metadata": {},
   "source": [
    "### Three-Phase Concept of Customer Interactions"
   ]
  },
  {
   "cell_type": "markdown",
   "id": "c752c458",
   "metadata": {},
   "source": [
    "     Three phase customer interaction concept is the root idea behind the IHC Attribution Model. It refers that more or less every customer is going through three stages. Over the years various names were given to these stages, we are calling them: Initializer, Holder, Closer."
   ]
  },
  {
   "cell_type": "markdown",
   "id": "7e917e54",
   "metadata": {},
   "source": [
    "   **Initializer** -> Becoming aware of the product \n",
    "\n",
    "   **Holder** -> Phase of the customers interest being kept\n",
    "\n",
    "   **Closer** -> Final phase that customer buys or makes a decision to buy the product"
   ]
  },
  {
   "cell_type": "markdown",
   "id": "6be42f95",
   "metadata": {},
   "source": [
    "![1](img/EU02818929_normal_combined.png) ![2](img/EU02818929_normal_ihc.png)"
   ]
  },
  {
   "cell_type": "markdown",
   "id": "426ac38f",
   "metadata": {},
   "source": [
    "# How do we distribute credits?"
   ]
  },
  {
   "cell_type": "markdown",
   "id": "533e7f76",
   "metadata": {},
   "source": [
    "     Initializer Membership Function and Closer Membership Function are the main components of the IHC Model. Every trained model in our Webservice creates its own functions and evaluates the results according to them. To generate the Initializer Membership Function, our main feature is the time customers spent in between digital sessions. In other words, time the customers wait to make another interaction. For Closer Membership Function, we are considering each session's time difference with the conversion event in the customer journeys.\n",
    "     According the these functions and with the help of session-level-classification regarding to Holder and Closer phases, the IHC Model allocates the credits for your evaluation."
   ]
  },
  {
   "cell_type": "markdown",
   "id": "ee6ffff2",
   "metadata": {},
   "source": [
    "    Initializer Value: Initializer Membership Function, Page Statistics, Time to its Prior Session, Channel"
   ]
  },
  {
   "cell_type": "markdown",
   "id": "adda706c",
   "metadata": {},
   "source": [
    "    Closer Value:  Closer Membership Function Page Statistics, Time to Conversion Session, Channel"
   ]
  },
  {
   "cell_type": "markdown",
   "id": "ebedd971",
   "metadata": {},
   "source": [
    "    Holder Value: Page Statistics, Channels, Initializer Values and Closer Values"
   ]
  },
  {
   "cell_type": "markdown",
   "id": "44cf7020",
   "metadata": {},
   "source": [
    "![1](img/EU03676653_time_combined.png) "
   ]
  },
  {
   "cell_type": "markdown",
   "id": "2a24e33f",
   "metadata": {},
   "source": [
    "# Interesting Charts"
   ]
  },
  {
   "cell_type": "markdown",
   "id": "852a5154",
   "metadata": {},
   "source": [
    "         Here are some interesting journeys. As you may have noticed all three customer journeys have identical channels in the same order. On the other hand, attributed results are completely different (see attributed conversions in the table below). If we would have taken our results from any other aforementioned models above like First Click, Last Click and U-Shape, they would attribute the conversions identically through the sessions. Thus, all three customer journeys would have the same results.\n",
    "         Every customer's behaviour and every customer's journey are different from one another, and with the IHC Attribution Model, we are trying to enlighten those differences."
   ]
  },
  {
   "cell_type": "markdown",
   "id": "f4469b04",
   "metadata": {},
   "source": [
    "![1](img/cj_scores.png) "
   ]
  },
  {
   "cell_type": "markdown",
   "id": "dbd99150",
   "metadata": {},
   "source": [
    "![1](img/EU02818929_double.png) ![2](img/EU03455105_double.png) ![3](img/EU02530041_double.png)"
   ]
  }
 ],
 "metadata": {
  "kernelspec": {
   "display_name": "Python 3",
   "language": "python",
   "name": "python3"
  },
  "language_info": {
   "codemirror_mode": {
    "name": "ipython",
    "version": 3
   },
   "file_extension": ".py",
   "mimetype": "text/x-python",
   "name": "python",
   "nbconvert_exporter": "python",
   "pygments_lexer": "ipython3",
   "version": "3.7.6"
  }
 },
 "nbformat": 4,
 "nbformat_minor": 5
}
